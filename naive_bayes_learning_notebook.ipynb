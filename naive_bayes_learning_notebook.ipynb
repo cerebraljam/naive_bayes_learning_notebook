{
 "cells": [
  {
   "cell_type": "markdown",
   "metadata": {},
   "source": [
    "# Naive Bayes - Learning a Model From Data, Then Checking Events Against Our Model\n",
    "\n",
    "In my [previous Naïve Bayes Notebook](https://github.com/cerebraljam/naive_bayes_notebook), I built a guestimated probability distribution for a imaginary web application. Using that probability distribution, we could update our prior belief to get a good idea if a sequence of events could be associated to a 'buyer' user or not.\n",
    "\n",
    "How can we come up with the probability distribution from observed data? This notebook demonstrates how we could learn a model from some user session data, and then query that model against a series of events.\n",
    "\n",
    "For this notebook, I am still using a Naive Bayes approach, which is known to be less efficient than a Bayes Network, but still, it provides quick and dirty results without much efforts.\n",
    "\n",
    "For more information on how to build a Bayes Network from data, [pgympy](https://github.com/pgmpy/pgmpy_notebook/blob/master/notebooks/9.%20Learning%20Bayesian%20Networks%20from%20Data.ipynb) does have a nice example, given that the complexity of the network isn't too complicated."
   ]
  },
  {
   "cell_type": "code",
   "execution_count": 1,
   "metadata": {},
   "outputs": [],
   "source": [
    "import pandas as pd\n",
    "import numpy as np\n",
    "import copy"
   ]
  },
  {
   "cell_type": "code",
   "execution_count": 2,
   "metadata": {},
   "outputs": [],
   "source": [
    "%load_ext autoreload\n",
    "%autoreload 2\n",
    "\n",
    "# For clarity, I moved the function used to loop through the events and update the probabilities in an external file.\n",
    "from naive_bayes import analyse_events"
   ]
  },
  {
   "cell_type": "markdown",
   "metadata": {},
   "source": [
    "## Loading The User Session Data\n",
    "\n",
    "The training file is a text file with \"user,action' events. "
   ]
  },
  {
   "cell_type": "code",
   "execution_count": 3,
   "metadata": {},
   "outputs": [
    {
     "data": {
      "text/html": [
       "<div>\n",
       "<style scoped>\n",
       "    .dataframe tbody tr th:only-of-type {\n",
       "        vertical-align: middle;\n",
       "    }\n",
       "\n",
       "    .dataframe tbody tr th {\n",
       "        vertical-align: top;\n",
       "    }\n",
       "\n",
       "    .dataframe thead th {\n",
       "        text-align: right;\n",
       "    }\n",
       "</style>\n",
       "<table border=\"1\" class=\"dataframe\">\n",
       "  <thead>\n",
       "    <tr style=\"text-align: right;\">\n",
       "      <th></th>\n",
       "      <th>user</th>\n",
       "      <th>action</th>\n",
       "    </tr>\n",
       "  </thead>\n",
       "  <tbody>\n",
       "    <tr>\n",
       "      <th>0</th>\n",
       "      <td>buyer</td>\n",
       "      <td>login</td>\n",
       "    </tr>\n",
       "    <tr>\n",
       "      <th>1</th>\n",
       "      <td>buyer</td>\n",
       "      <td>view</td>\n",
       "    </tr>\n",
       "    <tr>\n",
       "      <th>2</th>\n",
       "      <td>buyer</td>\n",
       "      <td>view</td>\n",
       "    </tr>\n",
       "    <tr>\n",
       "      <th>3</th>\n",
       "      <td>buyer</td>\n",
       "      <td>view</td>\n",
       "    </tr>\n",
       "    <tr>\n",
       "      <th>4</th>\n",
       "      <td>buyer</td>\n",
       "      <td>view</td>\n",
       "    </tr>\n",
       "  </tbody>\n",
       "</table>\n",
       "</div>"
      ],
      "text/plain": [
       "    user action\n",
       "0  buyer  login\n",
       "1  buyer   view\n",
       "2  buyer   view\n",
       "3  buyer   view\n",
       "4  buyer   view"
      ]
     },
     "execution_count": 3,
     "metadata": {},
     "output_type": "execute_result"
    }
   ],
   "source": [
    "data = pd.read_csv('training_events.csv',delimiter=',')\n",
    "data.head()"
   ]
  },
  {
   "cell_type": "markdown",
   "metadata": {},
   "source": [
    "For the purpose of this notebook, the training events does at have at least one action of each per user. The list of observed actions per user looks like this:"
   ]
  },
  {
   "cell_type": "code",
   "execution_count": 4,
   "metadata": {},
   "outputs": [
    {
     "data": {
      "text/plain": [
       "user\n",
       "buyer        [login, view, buy, search, address change, log...\n",
       "fraudster    [login fail, login, search, view, sell, buy, a...\n",
       "seller       [login, address change, search, view, sell, lo...\n",
       "Name: action, dtype: object"
      ]
     },
     "execution_count": 4,
     "metadata": {},
     "output_type": "execute_result"
    }
   ],
   "source": [
    "data.groupby(['user'])['action'].unique()"
   ]
  },
  {
   "cell_type": "markdown",
   "metadata": {},
   "source": [
    "## Learning the probability distribution from the training data\n",
    "\n",
    "The idea here is to build a memory representation of **User | Actions | True/False | Positive/Negative** probabilities.\n",
    "\n",
    "* True Positives are calculated by calculating the ratio between action for a user and that action being used by all users. P(action|user) / P(Action)\n",
    "* False Positives are calculated similarily: P(action | -user) / P(action)\n",
    "* True Negatives and False Negative are simply the value of *1 - True Positive* and *1 - False Positive*"
   ]
  },
  {
   "cell_type": "code",
   "execution_count": 5,
   "metadata": {},
   "outputs": [],
   "source": [
    "template = {'True': { 'Positive': 0.5, 'Negative': 0.5}, 'False': {'Positive': 0.5, 'Negative': 0.5}}\n",
    "action_template = {}\n",
    "distribution = {}\n",
    "for action in data['action'].unique():\n",
    "    action_template[action] = copy.deepcopy(template)\n",
    "\n",
    "for user in data['user'].unique():\n",
    "    distribution[user] = copy.deepcopy(action_template)\n",
    "    for action in data['action'].unique():\n",
    "        TP = data.loc[(data['action'] == action) & (data['user'] == user)]['action'].value_counts() / data.loc[data['action'] == action]['action'].value_counts()\n",
    "        FP = data.loc[(data['action'] == action) & (data['user'] != user)]['action'].value_counts() / data.loc[data['action'] == action]['action'].value_counts()\n",
    "        TN = 1 - TP\n",
    "        FN = 1 - FP\n",
    "\n",
    "        # print(\"{}\\t{}\\t{:.2f} {:.2f} {:.2f} {:.2f}\".format(user, action, TP[action],FP[action],TN[action],FN[action]))\n",
    "        distribution[user][action]['True']['Positive'] = TP[action]\n",
    "        distribution[user][action]['False']['Positive'] = FP[action]\n",
    "        distribution[user][action]['True']['Negative'] = TN[action]\n",
    "        distribution[user][action]['False']['Negative'] = FN[action]\n"
   ]
  },
  {
   "cell_type": "markdown",
   "metadata": {},
   "source": [
    "The end results looks like the following:\n",
    "\n",
    "* For Buyer, Seller and Fraudster:\n",
    "    * what is the probability of having a True Positive, what is the probability of a False Positive"
   ]
  },
  {
   "cell_type": "code",
   "execution_count": 6,
   "metadata": {},
   "outputs": [
    {
     "name": "stdout",
     "output_type": "stream",
     "text": [
      "0.625 0.375\n",
      "0.0625 0.9375\n",
      "0.3125 0.6875\n"
     ]
    }
   ],
   "source": [
    "print(distribution['buyer']['buy']['True']['Positive'], distribution['buyer']['buy']['False']['Positive'])\n",
    "print(distribution['seller']['buy']['True']['Positive'], distribution['seller']['buy']['False']['Positive'])\n",
    "print(distribution['fraudster']['buy']['True']['Positive'], distribution['fraudster']['buy']['False']['Positive'])"
   ]
  },
  {
   "cell_type": "markdown",
   "metadata": {},
   "source": [
    "Our memory representation is a 4 Dimension memory representation that would look like the following in a Pandas DataFrame"
   ]
  },
  {
   "cell_type": "code",
   "execution_count": 7,
   "metadata": {},
   "outputs": [
    {
     "data": {
      "text/html": [
       "<div>\n",
       "<style scoped>\n",
       "    .dataframe tbody tr th:only-of-type {\n",
       "        vertical-align: middle;\n",
       "    }\n",
       "\n",
       "    .dataframe tbody tr th {\n",
       "        vertical-align: top;\n",
       "    }\n",
       "\n",
       "    .dataframe thead th {\n",
       "        text-align: right;\n",
       "    }\n",
       "</style>\n",
       "<table border=\"1\" class=\"dataframe\">\n",
       "  <thead>\n",
       "    <tr style=\"text-align: right;\">\n",
       "      <th></th>\n",
       "      <th>buyer</th>\n",
       "      <th>fraudster</th>\n",
       "      <th>seller</th>\n",
       "    </tr>\n",
       "  </thead>\n",
       "  <tbody>\n",
       "    <tr>\n",
       "      <th>address change</th>\n",
       "      <td>{'False': {'Positive': 0.8, 'Negative': 0.1999...</td>\n",
       "      <td>{'False': {'Positive': 0.4, 'Negative': 0.6}, ...</td>\n",
       "      <td>{'False': {'Positive': 0.8, 'Negative': 0.1999...</td>\n",
       "    </tr>\n",
       "    <tr>\n",
       "      <th>buy</th>\n",
       "      <td>{'False': {'Positive': 0.375, 'Negative': 0.62...</td>\n",
       "      <td>{'False': {'Positive': 0.6875, 'Negative': 0.3...</td>\n",
       "      <td>{'False': {'Positive': 0.9375, 'Negative': 0.0...</td>\n",
       "    </tr>\n",
       "    <tr>\n",
       "      <th>login</th>\n",
       "      <td>{'False': {'Positive': 0.6, 'Negative': 0.4}, ...</td>\n",
       "      <td>{'False': {'Positive': 0.6, 'Negative': 0.4}, ...</td>\n",
       "      <td>{'False': {'Positive': 0.8, 'Negative': 0.1999...</td>\n",
       "    </tr>\n",
       "    <tr>\n",
       "      <th>login fail</th>\n",
       "      <td>{'False': {'Positive': 0.9545454545454546, 'Ne...</td>\n",
       "      <td>{'False': {'Positive': 0.09090909090909091, 'N...</td>\n",
       "      <td>{'False': {'Positive': 0.9545454545454546, 'Ne...</td>\n",
       "    </tr>\n",
       "    <tr>\n",
       "      <th>logout</th>\n",
       "      <td>{'False': {'Positive': 0.8, 'Negative': 0.1999...</td>\n",
       "      <td>{'False': {'Positive': 0.4, 'Negative': 0.6}, ...</td>\n",
       "      <td>{'False': {'Positive': 0.8, 'Negative': 0.1999...</td>\n",
       "    </tr>\n",
       "    <tr>\n",
       "      <th>search</th>\n",
       "      <td>{'False': {'Positive': 0.5, 'Negative': 0.5}, ...</td>\n",
       "      <td>{'False': {'Positive': 0.8333333333333334, 'Ne...</td>\n",
       "      <td>{'False': {'Positive': 0.6666666666666666, 'Ne...</td>\n",
       "    </tr>\n",
       "    <tr>\n",
       "      <th>sell</th>\n",
       "      <td>{'False': {'Positive': 0.9444444444444444, 'Ne...</td>\n",
       "      <td>{'False': {'Positive': 0.7222222222222222, 'Ne...</td>\n",
       "      <td>{'False': {'Positive': 0.3333333333333333, 'Ne...</td>\n",
       "    </tr>\n",
       "    <tr>\n",
       "      <th>view</th>\n",
       "      <td>{'False': {'Positive': 0.23728813559322035, 'N...</td>\n",
       "      <td>{'False': {'Positive': 0.9322033898305084, 'Ne...</td>\n",
       "      <td>{'False': {'Positive': 0.8305084745762712, 'Ne...</td>\n",
       "    </tr>\n",
       "  </tbody>\n",
       "</table>\n",
       "</div>"
      ],
      "text/plain": [
       "                                                            buyer  \\\n",
       "address change  {'False': {'Positive': 0.8, 'Negative': 0.1999...   \n",
       "buy             {'False': {'Positive': 0.375, 'Negative': 0.62...   \n",
       "login           {'False': {'Positive': 0.6, 'Negative': 0.4}, ...   \n",
       "login fail      {'False': {'Positive': 0.9545454545454546, 'Ne...   \n",
       "logout          {'False': {'Positive': 0.8, 'Negative': 0.1999...   \n",
       "search          {'False': {'Positive': 0.5, 'Negative': 0.5}, ...   \n",
       "sell            {'False': {'Positive': 0.9444444444444444, 'Ne...   \n",
       "view            {'False': {'Positive': 0.23728813559322035, 'N...   \n",
       "\n",
       "                                                        fraudster  \\\n",
       "address change  {'False': {'Positive': 0.4, 'Negative': 0.6}, ...   \n",
       "buy             {'False': {'Positive': 0.6875, 'Negative': 0.3...   \n",
       "login           {'False': {'Positive': 0.6, 'Negative': 0.4}, ...   \n",
       "login fail      {'False': {'Positive': 0.09090909090909091, 'N...   \n",
       "logout          {'False': {'Positive': 0.4, 'Negative': 0.6}, ...   \n",
       "search          {'False': {'Positive': 0.8333333333333334, 'Ne...   \n",
       "sell            {'False': {'Positive': 0.7222222222222222, 'Ne...   \n",
       "view            {'False': {'Positive': 0.9322033898305084, 'Ne...   \n",
       "\n",
       "                                                           seller  \n",
       "address change  {'False': {'Positive': 0.8, 'Negative': 0.1999...  \n",
       "buy             {'False': {'Positive': 0.9375, 'Negative': 0.0...  \n",
       "login           {'False': {'Positive': 0.8, 'Negative': 0.1999...  \n",
       "login fail      {'False': {'Positive': 0.9545454545454546, 'Ne...  \n",
       "logout          {'False': {'Positive': 0.8, 'Negative': 0.1999...  \n",
       "search          {'False': {'Positive': 0.6666666666666666, 'Ne...  \n",
       "sell            {'False': {'Positive': 0.3333333333333333, 'Ne...  \n",
       "view            {'False': {'Positive': 0.8305084745762712, 'Ne...  "
      ]
     },
     "execution_count": 7,
     "metadata": {},
     "output_type": "execute_result"
    }
   ],
   "source": [
    "df = pd.DataFrame(distribution)\n",
    "df"
   ]
  },
  {
   "cell_type": "markdown",
   "metadata": {},
   "source": [
    "## Querying our models with a sequence of events\n",
    "\n",
    "We start with a prior probability of 1 / 3 (Number of user profiles in our model). This could prior probability could be improved by identifying the distribution of our user profiles, but for now, this will do the work."
   ]
  },
  {
   "cell_type": "code",
   "execution_count": 8,
   "metadata": {},
   "outputs": [
    {
     "name": "stdout",
     "output_type": "stream",
     "text": [
      "buyer: 0.33%\n",
      "fraudster: 0.33%\n",
      "seller: 0.33%\n"
     ]
    }
   ],
   "source": [
    "prior = {}\n",
    "users = sorted(data['user'].unique())\n",
    "for u in users:\n",
    "    prior[u] = 1 / len(data['user'].unique())\n",
    "    print(\"{}: {:.2f}%\".format(u, prior[u]))"
   ]
  },
  {
   "cell_type": "markdown",
   "metadata": {},
   "source": [
    "# Updating Our Bliefs, Given Evidences\n",
    "\n",
    "Let's say that we are observing a chain of events. For each of these events, we want to update our belief about the user.\n",
    "\n",
    "Note that we are doing two things:\n",
    "* Updating our posterior probability given that we are NOT observing an event\n",
    "* Updating our posterior probability every time that we observe an event happening.\n",
    "\n",
    "The reason why we are updating the posterior probability every time we observe an event, even if it was observed earlier, is to amplify events. For example: *login fail* is likely to happen for each of our profile, but it is less likely for the buyer and seller. Having multiple *login fail* should increase our belief that we are dealing with a fraudster."
   ]
  },
  {
   "cell_type": "markdown",
   "metadata": {},
   "source": [
    "### The Casual Buyer's Profile"
   ]
  },
  {
   "cell_type": "code",
   "execution_count": 9,
   "metadata": {},
   "outputs": [
    {
     "name": "stdout",
     "output_type": "stream",
     "text": [
      "Given the evidences 'search,view,search,view,view,buy'...\n",
      "what is the posterior probability that our user is a buyer?\n",
      "\t* \"login fail\" is False (0.95). Updating 0.33 to 0.91\n",
      "\t* \"login\" is False (0.60). Updating 0.91 to 0.94\n",
      "\t* \"address change\" is False (0.80). Updating 0.94 to 0.98\n",
      "\t* \"sell\" is False (0.94). Updating 0.98 to 1.00\n",
      "\t* \"logout\" is False (0.80). Updating 1.00 to 1.00\n",
      "\t* \"search\" is True (0.50). Updating 1.00 to 1.00\n",
      "\t* \"view\" is True (0.76). Updating 1.00 to 1.00\n",
      "\t* \"search\" is True (0.50). Updating 1.00 to 1.00\n",
      "\t* \"view\" is True (0.76). Updating 1.00 to 1.00\n",
      "\t* \"view\" is True (0.76). Updating 1.00 to 1.00\n",
      "\t* \"buy\" is True (0.62). Updating 1.00 to 1.00\n",
      "Probability that our user is a buyer is: 100.000%\n",
      "\n",
      "what is the posterior probability that our user is a fraudster?\n",
      "\t* \"login fail\" is False (0.09). Updating 0.33 to 0.05\n",
      "\t* \"login\" is False (0.60). Updating 0.05 to 0.07\n",
      "\t* \"address change\" is False (0.40). Updating 0.07 to 0.05\n",
      "\t* \"sell\" is False (0.72). Updating 0.05 to 0.12\n",
      "\t* \"logout\" is False (0.40). Updating 0.12 to 0.08\n",
      "\t* \"search\" is True (0.17). Updating 0.08 to 0.02\n",
      "\t* \"view\" is True (0.07). Updating 0.02 to 0.00\n",
      "\t* \"search\" is True (0.17). Updating 0.00 to 0.00\n",
      "\t* \"view\" is True (0.07). Updating 0.00 to 0.00\n",
      "\t* \"view\" is True (0.07). Updating 0.00 to 0.00\n",
      "\t* \"buy\" is True (0.31). Updating 0.00 to 0.00\n",
      "Probability that our user is a fraudster is: 0.000%\n",
      "\n",
      "what is the posterior probability that our user is a seller?\n",
      "\t* \"login fail\" is False (0.95). Updating 0.33 to 0.91\n",
      "\t* \"login\" is False (0.80). Updating 0.91 to 0.98\n",
      "\t* \"address change\" is False (0.80). Updating 0.98 to 0.99\n",
      "\t* \"sell\" is False (0.33). Updating 0.99 to 0.99\n",
      "\t* \"logout\" is False (0.80). Updating 0.99 to 1.00\n",
      "\t* \"search\" is True (0.33). Updating 1.00 to 0.99\n",
      "\t* \"view\" is True (0.17). Updating 0.99 to 0.97\n",
      "\t* \"search\" is True (0.33). Updating 0.97 to 0.94\n",
      "\t* \"view\" is True (0.17). Updating 0.94 to 0.78\n",
      "\t* \"view\" is True (0.17). Updating 0.78 to 0.42\n",
      "\t* \"buy\" is True (0.06). Updating 0.42 to 0.05\n",
      "Probability that our user is a seller is: 4.544%\n",
      "\n"
     ]
    }
   ],
   "source": [
    "events = ['search', 'view', 'search', 'view', 'view', 'buy']\n",
    "\n",
    "print(\"Given the evidences '{}'...\".format(\",\".join(events)))\n",
    "for user in users:\n",
    "    print(\"what is the posterior probability that our user is a {}?\".format(user))\n",
    "    posterior = analyse_events(prior[user], events, distribution[user])\n",
    "    print(\"Probability that our user is a {} is: {:.3f}%\\n\".format(user, 100 * posterior))"
   ]
  },
  {
   "cell_type": "markdown",
   "metadata": {},
   "source": [
    "### The Seller's Profile"
   ]
  },
  {
   "cell_type": "code",
   "execution_count": 10,
   "metadata": {},
   "outputs": [
    {
     "name": "stdout",
     "output_type": "stream",
     "text": [
      "Given the evidences 'sell,sell,view,sell,sell,search,sell'...\n",
      "what is the posterior probability that our user is a buyer?\n",
      "\t* \"login fail\" is False (0.95). Updating 0.33 to 0.91\n",
      "\t* \"login\" is False (0.60). Updating 0.91 to 0.94\n",
      "\t* \"buy\" is False (0.38). Updating 0.94 to 0.90\n",
      "\t* \"address change\" is False (0.80). Updating 0.90 to 0.97\n",
      "\t* \"logout\" is False (0.80). Updating 0.97 to 0.99\n",
      "\t* \"sell\" is True (0.06). Updating 0.99 to 0.90\n",
      "\t* \"sell\" is True (0.06). Updating 0.90 to 0.34\n",
      "\t* \"view\" is True (0.76). Updating 0.34 to 0.63\n",
      "\t* \"sell\" is True (0.06). Updating 0.63 to 0.09\n",
      "\t* \"sell\" is True (0.06). Updating 0.09 to 0.01\n",
      "\t* \"search\" is True (0.50). Updating 0.01 to 0.01\n",
      "\t* \"sell\" is True (0.06). Updating 0.01 to 0.00\n",
      "Probability that our user is a buyer is: 0.034%\n",
      "\n",
      "what is the posterior probability that our user is a fraudster?\n",
      "\t* \"login fail\" is False (0.09). Updating 0.33 to 0.05\n",
      "\t* \"login\" is False (0.60). Updating 0.05 to 0.07\n",
      "\t* \"buy\" is False (0.69). Updating 0.07 to 0.14\n",
      "\t* \"address change\" is False (0.40). Updating 0.14 to 0.10\n",
      "\t* \"logout\" is False (0.40). Updating 0.10 to 0.07\n",
      "\t* \"sell\" is True (0.28). Updating 0.07 to 0.03\n",
      "\t* \"sell\" is True (0.28). Updating 0.03 to 0.01\n",
      "\t* \"view\" is True (0.07). Updating 0.01 to 0.00\n",
      "\t* \"sell\" is True (0.28). Updating 0.00 to 0.00\n",
      "\t* \"sell\" is True (0.28). Updating 0.00 to 0.00\n",
      "\t* \"search\" is True (0.17). Updating 0.00 to 0.00\n",
      "\t* \"sell\" is True (0.28). Updating 0.00 to 0.00\n",
      "Probability that our user is a fraudster is: 0.001%\n",
      "\n",
      "what is the posterior probability that our user is a seller?\n",
      "\t* \"login fail\" is False (0.95). Updating 0.33 to 0.91\n",
      "\t* \"login\" is False (0.80). Updating 0.91 to 0.98\n",
      "\t* \"buy\" is False (0.94). Updating 0.98 to 1.00\n",
      "\t* \"address change\" is False (0.80). Updating 1.00 to 1.00\n",
      "\t* \"logout\" is False (0.80). Updating 1.00 to 1.00\n",
      "\t* \"sell\" is True (0.67). Updating 1.00 to 1.00\n",
      "\t* \"sell\" is True (0.67). Updating 1.00 to 1.00\n",
      "\t* \"view\" is True (0.17). Updating 1.00 to 1.00\n",
      "\t* \"sell\" is True (0.67). Updating 1.00 to 1.00\n",
      "\t* \"sell\" is True (0.67). Updating 1.00 to 1.00\n",
      "\t* \"search\" is True (0.33). Updating 1.00 to 1.00\n",
      "\t* \"sell\" is True (0.67). Updating 1.00 to 1.00\n",
      "Probability that our user is a seller is: 99.997%\n",
      "\n"
     ]
    }
   ],
   "source": [
    "events = ['sell', 'sell', 'view', 'sell', 'sell', 'search', 'sell']\n",
    "\n",
    "print(\"Given the evidences '{}'...\".format(\",\".join(events)))\n",
    "for user in users:\n",
    "    print(\"what is the posterior probability that our user is a {}?\".format(user))\n",
    "    posterior = analyse_events(prior[user], events, distribution[user])\n",
    "    print(\"Probability that our user is a {} is: {:.3f}%\\n\".format(user, 100 * posterior))"
   ]
  },
  {
   "cell_type": "markdown",
   "metadata": {},
   "source": [
    "### The Heavy Buyer and Seller's Profile\n",
    "\n",
    "For this one, the user is buying and selling. How does our posterior probability reacts?"
   ]
  },
  {
   "cell_type": "code",
   "execution_count": 11,
   "metadata": {},
   "outputs": [
    {
     "name": "stdout",
     "output_type": "stream",
     "text": [
      "Given the evidences 'buy,sell,view,sell,buy,view'...\n",
      "what is the posterior probability that our user is a buyer?\n",
      "\t* \"search\" is False (0.50). Updating 0.33 to 0.33\n",
      "\t* \"login fail\" is False (0.95). Updating 0.33 to 0.91\n",
      "\t* \"login\" is False (0.60). Updating 0.91 to 0.94\n",
      "\t* \"address change\" is False (0.80). Updating 0.94 to 0.98\n",
      "\t* \"logout\" is False (0.80). Updating 0.98 to 1.00\n",
      "\t* \"buy\" is True (0.62). Updating 1.00 to 1.00\n",
      "\t* \"sell\" is True (0.06). Updating 1.00 to 0.96\n",
      "\t* \"view\" is True (0.76). Updating 0.96 to 0.99\n",
      "\t* \"sell\" is True (0.06). Updating 0.99 to 0.82\n",
      "\t* \"buy\" is True (0.62). Updating 0.82 to 0.89\n",
      "\t* \"view\" is True (0.76). Updating 0.89 to 0.96\n",
      "Probability that our user is a buyer is: 96.157%\n",
      "\n",
      "what is the posterior probability that our user is a fraudster?\n",
      "\t* \"search\" is False (0.83). Updating 0.33 to 0.71\n",
      "\t* \"login fail\" is False (0.09). Updating 0.71 to 0.20\n",
      "\t* \"login\" is False (0.60). Updating 0.20 to 0.27\n",
      "\t* \"address change\" is False (0.40). Updating 0.27 to 0.20\n",
      "\t* \"logout\" is False (0.40). Updating 0.20 to 0.14\n",
      "\t* \"buy\" is True (0.31). Updating 0.14 to 0.07\n",
      "\t* \"sell\" is True (0.28). Updating 0.07 to 0.03\n",
      "\t* \"view\" is True (0.07). Updating 0.03 to 0.00\n",
      "\t* \"sell\" is True (0.28). Updating 0.00 to 0.00\n",
      "\t* \"buy\" is True (0.31). Updating 0.00 to 0.00\n",
      "\t* \"view\" is True (0.07). Updating 0.00 to 0.00\n",
      "Probability that our user is a fraudster is: 0.003%\n",
      "\n",
      "what is the posterior probability that our user is a seller?\n",
      "\t* \"search\" is False (0.67). Updating 0.33 to 0.50\n",
      "\t* \"login fail\" is False (0.95). Updating 0.50 to 0.95\n",
      "\t* \"login\" is False (0.80). Updating 0.95 to 0.99\n",
      "\t* \"address change\" is False (0.80). Updating 0.99 to 1.00\n",
      "\t* \"logout\" is False (0.80). Updating 1.00 to 1.00\n",
      "\t* \"buy\" is True (0.06). Updating 1.00 to 0.99\n",
      "\t* \"sell\" is True (0.67). Updating 0.99 to 0.99\n",
      "\t* \"view\" is True (0.17). Updating 0.99 to 0.97\n",
      "\t* \"sell\" is True (0.67). Updating 0.97 to 0.99\n",
      "\t* \"buy\" is True (0.06). Updating 0.99 to 0.83\n",
      "\t* \"view\" is True (0.17). Updating 0.83 to 0.50\n",
      "Probability that our user is a seller is: 49.878%\n",
      "\n"
     ]
    }
   ],
   "source": [
    "events = ['buy', 'sell', 'view', 'sell', 'buy', 'view']\n",
    "\n",
    "print(\"Given the evidences '{}'...\".format(\",\".join(events)))\n",
    "for user in users:\n",
    "    print(\"what is the posterior probability that our user is a {}?\".format(user))\n",
    "    posterior = analyse_events(prior[user], events, distribution[user])\n",
    "    print(\"Probability that our user is a {} is: {:.3f}%\\n\".format(user, 100 * posterior))"
   ]
  },
  {
   "cell_type": "markdown",
   "metadata": {},
   "source": [
    "### The Fraudster's Profile\n",
    "\n",
    "For this example, what skew the probability toward the fraudster, even if there is a lot of *buy*, is mainly the fact that *search* and *view* actions are not observed, which increase the probability that we are dealing with a *fraudster* over a normal user. The *failed logins* clearly doesn't help."
   ]
  },
  {
   "cell_type": "code",
   "execution_count": 12,
   "metadata": {},
   "outputs": [
    {
     "name": "stdout",
     "output_type": "stream",
     "text": [
      "Given the evidences 'login fail,login fail,login,address change,buy,buy,buy,logout'...\n",
      "\n",
      "what is the posterior probability that our user is a buyer?\n",
      "\t* \"search\" is False (0.50). Updating 0.33 to 0.33\n",
      "\t* \"sell\" is False (0.94). Updating 0.33 to 0.89\n",
      "\t* \"view\" is False (0.24). Updating 0.89 to 0.73\n",
      "\t* \"login fail\" is True (0.05). Updating 0.73 to 0.11\n",
      "\t* \"login fail\" is True (0.05). Updating 0.11 to 0.01\n",
      "\t* \"login\" is True (0.40). Updating 0.01 to 0.00\n",
      "\t* \"address change\" is True (0.20). Updating 0.00 to 0.00\n",
      "\t* \"buy\" is True (0.62). Updating 0.00 to 0.00\n",
      "\t* \"buy\" is True (0.62). Updating 0.00 to 0.00\n",
      "\t* \"buy\" is True (0.62). Updating 0.00 to 0.00\n",
      "\t* \"logout\" is True (0.20). Updating 0.00 to 0.00\n",
      "Probability that our user is a buyer is: 0.116%\n",
      "\n",
      "what is the posterior probability that our user is a fraudster?\n",
      "\t* \"search\" is False (0.83). Updating 0.33 to 0.71\n",
      "\t* \"sell\" is False (0.72). Updating 0.71 to 0.87\n",
      "\t* \"view\" is False (0.93). Updating 0.87 to 0.99\n",
      "\t* \"login fail\" is True (0.91). Updating 0.99 to 1.00\n",
      "\t* \"login fail\" is True (0.91). Updating 1.00 to 1.00\n",
      "\t* \"login\" is True (0.40). Updating 1.00 to 1.00\n",
      "\t* \"address change\" is True (0.60). Updating 1.00 to 1.00\n",
      "\t* \"buy\" is True (0.31). Updating 1.00 to 1.00\n",
      "\t* \"buy\" is True (0.31). Updating 1.00 to 1.00\n",
      "\t* \"buy\" is True (0.31). Updating 1.00 to 1.00\n",
      "\t* \"logout\" is True (0.60). Updating 1.00 to 1.00\n",
      "Probability that our user is a fraudster is: 99.921%\n",
      "\n",
      "what is the posterior probability that our user is a seller?\n",
      "\t* \"search\" is False (0.67). Updating 0.33 to 0.50\n",
      "\t* \"sell\" is False (0.33). Updating 0.50 to 0.33\n",
      "\t* \"view\" is False (0.83). Updating 0.33 to 0.71\n",
      "\t* \"login fail\" is True (0.05). Updating 0.71 to 0.10\n",
      "\t* \"login fail\" is True (0.05). Updating 0.10 to 0.01\n",
      "\t* \"login\" is True (0.20). Updating 0.01 to 0.00\n",
      "\t* \"address change\" is True (0.20). Updating 0.00 to 0.00\n",
      "\t* \"buy\" is True (0.06). Updating 0.00 to 0.00\n",
      "\t* \"buy\" is True (0.06). Updating 0.00 to 0.00\n",
      "\t* \"buy\" is True (0.06). Updating 0.00 to 0.00\n",
      "\t* \"logout\" is True (0.20). Updating 0.00 to 0.00\n",
      "Probability that our user is a seller is: 0.000%\n",
      "\n"
     ]
    }
   ],
   "source": [
    "events = ['login fail', 'login fail', 'login', 'address change', 'buy', 'buy', 'buy','logout']\n",
    "\n",
    "print(\"Given the evidences '{}'...\\n\".format(\",\".join(events)))\n",
    "for user in users:\n",
    "    print(\"what is the posterior probability that our user is a {}?\".format(user))\n",
    "    posterior = analyse_events(prior[user], events, distribution[user])\n",
    "    print(\"Probability that our user is a {} is: {:.3f}%\\n\".format(user, 100 * posterior))"
   ]
  },
  {
   "cell_type": "code",
   "execution_count": null,
   "metadata": {},
   "outputs": [],
   "source": []
  }
 ],
 "metadata": {
  "kernelspec": {
   "display_name": "Python [default]",
   "language": "python",
   "name": "python3"
  },
  "language_info": {
   "codemirror_mode": {
    "name": "ipython",
    "version": 3
   },
   "file_extension": ".py",
   "mimetype": "text/x-python",
   "name": "python",
   "nbconvert_exporter": "python",
   "pygments_lexer": "ipython3",
   "version": "3.5.4"
  }
 },
 "nbformat": 4,
 "nbformat_minor": 2
}
